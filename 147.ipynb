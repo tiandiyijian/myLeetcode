{
 "cells": [
  {
   "cell_type": "code",
   "execution_count": 1,
   "metadata": {},
   "outputs": [],
   "source": [
    "# Definition for singly-linked list.\n",
    "class ListNode:\n",
    "    def __init__(self, x):\n",
    "        self.val = x\n",
    "        self.next = None\n"
   ]
  },
  {
   "cell_type": "code",
   "execution_count": 37,
   "metadata": {},
   "outputs": [],
   "source": [
    "class Solution:\n",
    "    def insertionSortList(self, head: ListNode) -> ListNode:\n",
    "        if not head or not head.next:\n",
    "            return head\n",
    "        tmp = head.next\n",
    "        head.next = None\n",
    "        sortedHead = head\n",
    "        while tmp:\n",
    "            if tmp.val <= sortedHead.val:\n",
    "                nextNode = tmp.next\n",
    "                tmp.next = sortedHead\n",
    "                sortedHead = tmp\n",
    "                tmp = nextNode\n",
    "            else:\n",
    "                \"\"\"             \n",
    "                insertPosition1 = sortedHead\n",
    "                insertPosition2 = sortedHead.next\n",
    "                while insertPosition1 and insertPosition2:\n",
    "                    if insertPosition1.val < tmp.val <= insertPosition2.val:\n",
    "                        insertPosition1.next = tmp\n",
    "#                         tmp.next, tmp = insertPosition2, tmp.next\n",
    "#                         nextNode = tmp.next\n",
    "                        tmp = tmp.next\n",
    "                        insertPosition1.next.next = insertPosition2\n",
    "#                         tmp = nextNode\n",
    "                        break\n",
    "                    else:\n",
    "                        insertPosition1 = insertPosition2\n",
    "                        insertPosition2 = insertPosition2.next\n",
    "                if not insertPosition2:\n",
    "#                     insertPosition1.next = tmp\n",
    "#                     tmp = tmp.next\n",
    "#                     insertPosition1.next.next = None\n",
    "                    insertPosition1.next, tmp, insertPosition1.next.next = tmp, tmp.next, None\n",
    "#                     tmp.next = None\n",
    "                \"\"\"\n",
    "                insertPosition = sortedHead\n",
    "                while insertPosition.next and insertPosition.next.val < tmp.val:\n",
    "                    insertPosition = insertPosition.next\n",
    "                nextNode = tmp.next\n",
    "                tmp.next = insertPosition.next\n",
    "                insertPosition.next = tmp\n",
    "                tmp = nextNode\n",
    "        return sortedHead"
   ]
  },
  {
   "cell_type": "code",
   "execution_count": 3,
   "metadata": {},
   "outputs": [],
   "source": [
    "def printList(node):\n",
    "    node_ = node\n",
    "    while(node_):\n",
    "        print(node_.val)\n",
    "        node_ = node_.next"
   ]
  },
  {
   "cell_type": "code",
   "execution_count": 9,
   "metadata": {},
   "outputs": [],
   "source": [
    "a = ListNode(-1)\n",
    "b = ListNode(5)\n",
    "c = ListNode(3)\n",
    "d = ListNode(4)\n",
    "e = ListNode(0)\n",
    "# a = ListNode(-1)\n",
    "# b = ListNode(4)\n",
    "# c = ListNode(2)\n",
    "# d = ListNode(1)\n",
    "# e = ListNode(3)\n",
    "a.next = b\n",
    "b.next = c\n",
    "c.next = d\n",
    "d.next = e"
   ]
  },
  {
   "cell_type": "code",
   "execution_count": 10,
   "metadata": {},
   "outputs": [
    {
     "name": "stdout",
     "output_type": "stream",
     "text": [
      "-1\n",
      "5\n",
      "3\n",
      "4\n",
      "0\n"
     ]
    }
   ],
   "source": [
    "printList(a)"
   ]
  },
  {
   "cell_type": "code",
   "execution_count": 11,
   "metadata": {},
   "outputs": [],
   "source": [
    "s = Solution()\n",
    "node = s.insertionSortList(a)"
   ]
  },
  {
   "cell_type": "code",
   "execution_count": 12,
   "metadata": {},
   "outputs": [
    {
     "name": "stdout",
     "output_type": "stream",
     "text": [
      "-1\n",
      "0\n",
      "3\n",
      "4\n",
      "5\n"
     ]
    }
   ],
   "source": [
    "printList(node)"
   ]
  },
  {
   "cell_type": "code",
   "execution_count": 14,
   "metadata": {},
   "outputs": [],
   "source": [
    "a = 1\n",
    "b = 2"
   ]
  },
  {
   "cell_type": "code",
   "execution_count": 15,
   "metadata": {},
   "outputs": [
    {
     "data": {
      "text/plain": [
       "(2, 1)"
      ]
     },
     "execution_count": 15,
     "metadata": {},
     "output_type": "execute_result"
    }
   ],
   "source": [
    "a,b = b,a\n",
    "a,b"
   ]
  },
  {
   "cell_type": "code",
   "execution_count": 16,
   "metadata": {},
   "outputs": [],
   "source": [
    "a = ListNode(1)\n",
    "b = ListNode(2)"
   ]
  },
  {
   "cell_type": "code",
   "execution_count": 17,
   "metadata": {},
   "outputs": [
    {
     "data": {
      "text/plain": [
       "(1, 2)"
      ]
     },
     "execution_count": 17,
     "metadata": {},
     "output_type": "execute_result"
    }
   ],
   "source": [
    "a.val, b.val"
   ]
  },
  {
   "cell_type": "code",
   "execution_count": 18,
   "metadata": {},
   "outputs": [
    {
     "data": {
      "text/plain": [
       "(2, 1)"
      ]
     },
     "execution_count": 18,
     "metadata": {},
     "output_type": "execute_result"
    }
   ],
   "source": [
    "a,b = b,a\n",
    "a.val,b.val"
   ]
  },
  {
   "cell_type": "code",
   "execution_count": 8,
   "metadata": {},
   "outputs": [],
   "source": [
    "class Solution:\n",
    "    def insertionSortList(self, head: ListNode) -> ListNode:\n",
    "        if not head or not head.next:\n",
    "            return head\n",
    "        dummy = ListNode(-1)\n",
    "        dummy.next = head\n",
    "        tmp = head\n",
    "        while tmp:\n",
    "            if tmp.next and tmp.next.val < tmp.val:\n",
    "                insertPosition = dummy\n",
    "                while insertPosition.next and insertPosition.next.val < tmp.next.val: # 只处理降序部分\n",
    "                    insertPosition = insertPosition.next\n",
    "                nextNode = tmp.next.next\n",
    "                tmp.next.next = insertPosition.next\n",
    "                insertPosition.next = tmp.next\n",
    "                tmp.next = nextNode\n",
    "            else:\n",
    "                tmp = tmp.next\n",
    "        return dummy.next"
   ]
  },
  {
   "cell_type": "code",
   "execution_count": null,
   "metadata": {},
   "outputs": [],
   "source": []
  }
 ],
 "metadata": {
  "kernelspec": {
   "display_name": "Python 3",
   "language": "python",
   "name": "python3"
  },
  "language_info": {
   "codemirror_mode": {
    "name": "ipython",
    "version": 3
   },
   "file_extension": ".py",
   "mimetype": "text/x-python",
   "name": "python",
   "nbconvert_exporter": "python",
   "pygments_lexer": "ipython3",
   "version": "3.7.2"
  }
 },
 "nbformat": 4,
 "nbformat_minor": 2
}
