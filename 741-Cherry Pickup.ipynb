{
 "cells": [
  {
   "cell_type": "code",
   "execution_count": 46,
   "metadata": {},
   "outputs": [],
   "source": [
    "class Solution:\n",
    "    def cherryPickup(self, grid: list) -> int:\n",
    "        if not grid or not grid[0] or grid[0][0] == -1:\n",
    "            return 0\n",
    "        \n",
    "        class info:\n",
    "            def __init__(self, value=-1, lastX=-1, lastY=-1):\n",
    "                self.value = value #-1表示不可达\n",
    "                self.lastX = lastX\n",
    "                self.lastY = lastY\n",
    "        \n",
    "        n = len(grid[0])\n",
    "        dp = [[None] * n for _ in range(n)]\n",
    "        #dp1 = [[None] * n for _ in range(n)]\n",
    "        resOfGo = resOfBack = 0\n",
    "        for i in range(n):\n",
    "            for j in range(n):\n",
    "                #dp[i][j] = info()\n",
    "                if grid[i][j] == -1:\n",
    "                    dp[i][j] = info(-1, -1, -1)\n",
    "#                     if i == 0 and j == 1: \n",
    "#                     print(i,j, grid[i][j])\n",
    "                    continue\n",
    "                if i + j == 0:\n",
    "                    dp[i][j] = info(grid[i][j], -1, -1)\n",
    "                elif i == 0:\n",
    "                    if dp[i][j-1].value == -1:\n",
    "                        dp[i][j] = info(-1, i, j-1)\n",
    "                        if i == 0 and j == 1: print(i,j)\n",
    "                    else:\n",
    "                        dp[i][j] = info(dp[i][j-1].value + grid[i][j], i, j-1)\n",
    "                elif j == 0:\n",
    "                    if dp[i-1][j].value == -1:\n",
    "                        dp[i][j] = info(-1, i-1, j)\n",
    "                    else:\n",
    "                        dp[i][j] = info(dp[i-1][j].value + grid[i][j], i-1, j)\n",
    "                elif i > 0 and j > 0:\n",
    "                    if dp[i-1][j].value == -1 and dp[i][j-1].value == -1:\n",
    "                        dp[i][j] = info(-1, -1, -1)\n",
    "                    elif dp[i-1][j].value == -1:\n",
    "                        dp[i][j] = info(dp[i][j-1].value + grid[i][j], i, j-1)\n",
    "                    elif dp[i][j-1].value == -1:\n",
    "                        dp[i][j] = info(dp[i-1][j].value + grid[i][j], i-1, j)\n",
    "                    else:\n",
    "                        if dp[i-1][j].value > dp[i][j-1].value:\n",
    "                            dp[i][j] = info(dp[i-1][j].value + grid[i][j], i-1, j)\n",
    "                        else:\n",
    "                            dp[i][j] = info(dp[i][j-1].value + grid[i][j], i, j-1)\n",
    "        resOfGo = dp[n-1][n-1].value\n",
    "        print(resOfGo)\n",
    "#         if(resOfGo == -1):\n",
    "#             return 0\n",
    "        for i in range(n):\n",
    "            for j in range(n):\n",
    "                print(dp[i][j].value, end=' ')\n",
    "            print()\n",
    "#         print(dp[n-1][n-1].lastX, dp[n-1][n-1].lastY)\n",
    "#         row, colum = n-1, n-1\n",
    "#         while row + colum >= 0:\n",
    "#             grid[row][colum] = 0\n",
    "#             row, colum = dp[row][colum].lastX, dp[row][colum].lastY\n",
    "#         print(row, colum)\n",
    "#         for i in range(n):\n",
    "#             print(grid[i])\n",
    "#         return resOfGo\n",
    "#         dp = [[None] * n for _ in range(n)]\n",
    "#         for i in range(n):\n",
    "#             for j in range(n):\n",
    "#                 #dp[i][j] = info()\n",
    "#                 if grid[j][j] == -1:\n",
    "#                     dp[i][j] = info(-1, -1, -1)\n",
    "#                     continue\n",
    "#                 if i + j == 0:\n",
    "#                     dp[i][j] = info(grid[i][j], -1, -1)\n",
    "#                 elif i == 0:\n",
    "#                     if dp[i][j-1].value == -1:\n",
    "#                         dp[i][j] = info(-1, i, j-1)\n",
    "#                     else:\n",
    "#                         dp[i][j] = info(dp[i][j-1].value + grid[i][j], i, j-1)\n",
    "#                 elif j == 0:\n",
    "#                     if dp[i-1][j].value == -1:\n",
    "#                         dp[i][j] = info(-1, i-1, j)\n",
    "#                     else:\n",
    "#                         dp[i][j] = info(dp[i-1][j].value + grid[i][j], i-1, j)\n",
    "#                 elif i > 0 and j > 0:\n",
    "#                     if dp[i-1][j].value == -1 and dp[i][j-1].value == -1:\n",
    "#                         dp[i][j] = info(-1, -1, -1)\n",
    "#                     elif dp[i-1][j].value == -1:\n",
    "#                         dp[i][j] = info(dp[i][j-1].value + grid[i][j], i, j-1)\n",
    "#                     elif dp[i][j-1].value == -1:\n",
    "#                         dp[i][j] = info(dp[i-1][j].value + grid[i][j], i-1, j)\n",
    "#                     else:\n",
    "#                         if dp[i-1][j].value > dp[i][j-1].value:\n",
    "#                             dp[i][j] = info(dp[i-1][j].value + grid[i][j], i-1, j)\n",
    "#                         else:\n",
    "#                             dp[i][j] = info(dp[i][j-1].value + grid[i][j], i, j-1)\n",
    "#         resOfBack = dp[n-1][n-1].value\n",
    "#         return resOfGo + resOfBack"
   ]
  },
  {
   "cell_type": "code",
   "execution_count": 53,
   "metadata": {},
   "outputs": [],
   "source": [
    "# grid = [[0, 1, -1],\n",
    "#         [1, -1, -1],\n",
    "#         [1, -1,  1]]\n",
    "grid = [[1,1,1,1,0,0,0],\n",
    "        [0,0,0,1,0,0,0],\n",
    "        [0,0,0,1,0,0,1],\n",
    "        [1,0,0,1,0,0,0],\n",
    "        [0,0,0,1,0,0,0],\n",
    "        [0,0,0,1,0,0,0],\n",
    "        [0,0,0,1,1,1,1]]"
   ]
  },
  {
   "cell_type": "code",
   "execution_count": 54,
   "metadata": {},
   "outputs": [],
   "source": [
    "s = Solution()"
   ]
  },
  {
   "cell_type": "code",
   "execution_count": 55,
   "metadata": {
    "scrolled": true
   },
   "outputs": [
    {
     "name": "stdout",
     "output_type": "stream",
     "text": [
      "13\n",
      "1 2 3 4 4 4 4 \n",
      "1 2 3 5 5 5 5 \n",
      "1 2 3 6 6 6 7 \n",
      "2 2 3 7 7 7 7 \n",
      "2 2 3 8 8 8 8 \n",
      "2 2 3 9 9 9 9 \n",
      "2 2 3 10 11 12 13 \n"
     ]
    }
   ],
   "source": [
    "s.cherryPickup(grid)"
   ]
  },
  {
   "cell_type": "markdown",
   "metadata": {},
   "source": [
    "哭了，正确走法是去的时候先向下走，再向右向下向右，回去的时候向上向右向上向右，这样能采到所有草莓，我的这种想法本质上是贪心算法，去的时候和回来的时候都采最多的。"
   ]
  },
  {
   "cell_type": "markdown",
   "metadata": {},
   "source": []
  },
  {
   "cell_type": "code",
   "execution_count": 22,
   "metadata": {},
   "outputs": [],
   "source": [
    "import sys"
   ]
  },
  {
   "cell_type": "code",
   "execution_count": 64,
   "metadata": {},
   "outputs": [],
   "source": [
    "class Solution:\n",
    "    def cherryPickup(self, grid: list) -> int:\n",
    "        if not grid or not grid[0] or grid[0][0] == -1:\n",
    "            return 0\n",
    "        n = len(grid)\n",
    "        dp = [[-sys.maxsize-1] * n for _ in range(n)]\n",
    "        dp[0][0] = grid[0][0]\n",
    "        for t in range(1, 2*n-1):#t表示已走的步数，最多能走2*n-2步\n",
    "            dp2 = [[-sys.maxsize-1] * n for _ in range(n)]\n",
    "            for i in range(max(0, t-(n-1)), min(n-1, t)+1):#i，j分别表示两个leg的横坐标，则这两个leg的纵坐标分别为t-i，t-j\n",
    "                for j in range(max(0, t-(n-1)), min(n-1, t)+1):\n",
    "                    if grid[i][t-i] == -1 or grid[j][t-j] == -1:\n",
    "                        continue\n",
    "                    val = grid[i][t-i]\n",
    "                    if i != j:\n",
    "                        val += grid[j][t-j]\n",
    "                    #print(val, i, j)\n",
    "                    dp2[i][j] = max(val + dp[pi][pj] for pi in (i, i-1) for pj in (j, j-1) if pi >= 0 and pj >= 0)\n",
    "            dp = dp2\n",
    "            #for i in dp:\n",
    "            #   print(i)\n",
    "        return max(0, dp[n-1][n-1])\n",
    "        "
   ]
  },
  {
   "cell_type": "code",
   "execution_count": 65,
   "metadata": {},
   "outputs": [],
   "source": [
    "grid = [[1, 1, -1],\n",
    "        [1, -1, -1],\n",
    "        [1, -1,  1]]\n",
    "grid1 = [[1,1,1,1,0,0,0],\n",
    "        [0,0,0,1,0,0,0],\n",
    "        [0,0,0,1,0,0,1],\n",
    "        [1,0,0,1,0,0,0],\n",
    "        [0,0,0,1,0,0,0],\n",
    "        [0,0,0,1,0,0,0],\n",
    "        [0,0,0,1,1,1,1]]\n",
    "s = Solution()"
   ]
  },
  {
   "cell_type": "code",
   "execution_count": 66,
   "metadata": {
    "scrolled": true
   },
   "outputs": [
    {
     "name": "stdout",
     "output_type": "stream",
     "text": [
      "15\n"
     ]
    }
   ],
   "source": [
    "print(s.cherryPickup(grid1))"
   ]
  },
  {
   "cell_type": "code",
   "execution_count": null,
   "metadata": {},
   "outputs": [],
   "source": []
  }
 ],
 "metadata": {
  "kernelspec": {
   "display_name": "Python 3",
   "language": "python",
   "name": "python3"
  },
  "language_info": {
   "codemirror_mode": {
    "name": "ipython",
    "version": 3
   },
   "file_extension": ".py",
   "mimetype": "text/x-python",
   "name": "python",
   "nbconvert_exporter": "python",
   "pygments_lexer": "ipython3",
   "version": "3.7.2"
  }
 },
 "nbformat": 4,
 "nbformat_minor": 2
}
