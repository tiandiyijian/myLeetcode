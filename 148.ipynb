{
 "cells": [
  {
   "cell_type": "code",
   "execution_count": 1,
   "metadata": {},
   "outputs": [],
   "source": [
    "# Definition for singly-linked list.\n",
    "class ListNode:\n",
    "    def __init__(self, x):\n",
    "        self.val = x\n",
    "        self.next = None"
   ]
  },
  {
   "cell_type": "code",
   "execution_count": null,
   "metadata": {},
   "outputs": [],
   "source": [
    "class Solution:\n",
    "    def sortList(self, head: ListNode) -> ListNode:\n",
    "        def merge(nodea: ListNode, nodeb: ListNode):\n",
    "            a,b = nodea, nodeb\n",
    "            thead = rhead = ListNode(-1)\n",
    "    #             rhead = a if a.val < b.val else b\n",
    "            while a and b:\n",
    "                if a.val < b.val:\n",
    "                    rhead.next = a\n",
    "                    a = a.next\n",
    "                else:\n",
    "                    rhead.next = b\n",
    "                    b = b.next\n",
    "                rhead = rhead.next\n",
    "            # rhead.next = b if a is None else a\n",
    "            rhead.next = a or b\n",
    "            while rhead.next:\n",
    "                rhead = rhead.next\n",
    "            return thead.next, rhead\n",
    "        def split(head, n):\n",
    "            while n > 1 and head:\n",
    "                head = head.next\n",
    "                n -= 1\n",
    "            rest = head.next if head else None\n",
    "            if head:\n",
    "                head.next = None\n",
    "            return rest\n",
    "        if not head or not head.next:\n",
    "            return head\n",
    "        temp = head\n",
    "        length = 1\n",
    "        while temp.next:\n",
    "            temp = temp.next\n",
    "            length += 1\n",
    "        \n",
    "        dummy = ListNode(-1)\n",
    "        dummy.next = head\n",
    "        l = r = cur = None\n",
    "        i = 1\n",
    "        while i < length:\n",
    "            cur = dummy.next\n",
    "            tail = dummy\n",
    "            while cur:\n",
    "                l = cur\n",
    "                r = split(l, i)\n",
    "                cur = split(r, i)\n",
    "                nodes = merge(l, r)\n",
    "                tail.next = nodes[0]\n",
    "                tail = nodes[1]\n",
    "            i *= 2\n",
    "        return dummy.next"
   ]
  }
 ],
 "metadata": {
  "kernelspec": {
   "display_name": "Python 3",
   "language": "python",
   "name": "python3"
  },
  "language_info": {
   "codemirror_mode": {
    "name": "ipython",
    "version": 3
   },
   "file_extension": ".py",
   "mimetype": "text/x-python",
   "name": "python",
   "nbconvert_exporter": "python",
   "pygments_lexer": "ipython3",
   "version": "3.7.2"
  }
 },
 "nbformat": 4,
 "nbformat_minor": 2
}
